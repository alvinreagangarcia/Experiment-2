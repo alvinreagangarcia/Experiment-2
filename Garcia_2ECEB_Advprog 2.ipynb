{
 "cells": [
  {
   "cell_type": "markdown",
   "id": "223cabf6-7a9e-4127-9c6d-a6ed995c14ed",
   "metadata": {},
   "source": [
    "Garcia, Alvin Reagan D.\n",
    "\n",
    "2ECEB\n",
    "\n",
    "Advanced Programming assignment 2\n",
    "\n",
    "09/01/25"
   ]
  },
  {
   "cell_type": "markdown",
   "id": "084e5b48-e0ca-46f3-99d1-b7172e0c22cc",
   "metadata": {},
   "source": [
    "1. NORMALIZATION PROBLEM"
   ]
  },
  {
   "cell_type": "code",
   "execution_count": 16,
   "id": "9bfff46f-e52d-4e07-8bb4-dd3d4113cb46",
   "metadata": {},
   "outputs": [
    {
     "name": "stdout",
     "output_type": "stream",
     "text": [
      "[[-0.66662792 -0.61656824 -1.02271542  0.61015354 -0.7605974 ]\n",
      " [-1.08606475 -0.35109952 -1.06804178  0.19727998  0.92976748]\n",
      " [-1.28510139 -1.1677901  -0.38462543 -0.57346085  1.76787347]\n",
      " [ 1.41986275  1.09392613  1.81130437 -0.18356433  1.14245656]\n",
      " [-0.09159362  0.25125712 -0.81468894  1.70625184 -0.85759354]]\n"
     ]
    }
   ],
   "source": [
    "import numpy as np\n",
    "x = np.random.random ((5,5)) \n",
    "mean = x.mean ()\n",
    "std = x.std ()\n",
    "\n",
    "Normalize_x = (x - mean) / std\n",
    "\n",
    "print(Normalize_x)\n",
    "np.save('X_Normalized.npy', Normalize_x)"
   ]
  },
  {
   "cell_type": "markdown",
   "id": "161c449b-aac7-4c71-9069-375aa821ae83",
   "metadata": {},
   "source": [
    "2. DIVISIBLE BY 3 PROBLEM"
   ]
  },
  {
   "cell_type": "code",
   "execution_count": 38,
   "id": "a2c7f98e-d10f-4773-abb8-f08558c298c9",
   "metadata": {},
   "outputs": [
    {
     "name": "stdout",
     "output_type": "stream",
     "text": [
      "[[   0    0    9    0    0   36    0    0   81    0]\n",
      " [   0  144    0    0  225    0    0  324    0    0]\n",
      " [ 441    0    0  576    0    0  729    0    0  900]\n",
      " [   0    0 1089    0    0 1296    0    0 1521    0]\n",
      " [   0 1764    0    0 2025    0    0 2304    0    0]\n",
      " [2601    0    0 2916    0    0 3249    0    0 3600]\n",
      " [   0    0 3969    0    0 4356    0    0 4761    0]\n",
      " [   0 5184    0    0 5625    0    0 6084    0    0]\n",
      " [6561    0    0 7056    0    0 7569    0    0 8100]\n",
      " [   0    0 8649    0    0 9216    0    0 9801    0]]\n"
     ]
    }
   ],
   "source": [
    "import numpy as np\n",
    "a = np.arange(1,101).reshape((10,10))\n",
    "a2 = a **2\n",
    "a3 = a2.copy()\n",
    "a3[ a3 % 3 != 0 ] = 0\n",
    "\n",
    "print(a3)\n",
    "np.save ('div_by_3',a3)"
   ]
  },
  {
   "cell_type": "code",
   "execution_count": null,
   "id": "16a12543-219d-4381-993e-dd9b4bcd8d49",
   "metadata": {},
   "outputs": [],
   "source": []
  }
 ],
 "metadata": {
  "kernelspec": {
   "display_name": "Python 3 (ipykernel)",
   "language": "python",
   "name": "python3"
  },
  "language_info": {
   "codemirror_mode": {
    "name": "ipython",
    "version": 3
   },
   "file_extension": ".py",
   "mimetype": "text/x-python",
   "name": "python",
   "nbconvert_exporter": "python",
   "pygments_lexer": "ipython3",
   "version": "3.13.5"
  }
 },
 "nbformat": 4,
 "nbformat_minor": 5
}
